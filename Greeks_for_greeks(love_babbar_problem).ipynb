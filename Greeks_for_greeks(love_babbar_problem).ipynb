{
  "nbformat": 4,
  "nbformat_minor": 0,
  "metadata": {
    "colab": {
      "provenance": [],
      "authorship_tag": "ABX9TyMebfSeQ9EGMxpkscLhQUmR",
      "include_colab_link": true
    },
    "kernelspec": {
      "name": "python3",
      "display_name": "Python 3"
    },
    "language_info": {
      "name": "python"
    }
  },
  "cells": [
    {
      "cell_type": "markdown",
      "metadata": {
        "id": "view-in-github",
        "colab_type": "text"
      },
      "source": [
        "<a href=\"https://colab.research.google.com/github/AKASHPATI007/Greeks-for-Greeks/blob/main/Greeks_for_greeks(love_babbar_problem).ipynb\" target=\"_parent\"><img src=\"https://colab.research.google.com/assets/colab-badge.svg\" alt=\"Open In Colab\"/></a>"
      ]
    },
    {
      "cell_type": "code",
      "execution_count": 26,
      "metadata": {
        "colab": {
          "base_uri": "https://localhost:8080/"
        },
        "id": "tOPAZHC10BIK",
        "outputId": "78a20945-7bdf-42c3-c455-399b0f97bc0f"
      },
      "outputs": [
        {
          "output_type": "stream",
          "name": "stdout",
          "text": [
            "Given array is\n",
            "1 2 3 4 5 \n",
            "Rotated array is\n",
            "5 1 2 3 4 "
          ]
        }
      ],
      "source": [
        "#1. Cyclically rotate an array by one\n",
        "'''Given an array, rotate the array by one position in clock-wise direction.\n",
        "Input: N = 5 , A[] = {1, 2, 3, 4, 5}\n",
        "Output:5 1 2 3 4'''\n",
        "\n",
        "'''1) Store last element in a variable say x.\n",
        "   2) Shift all elements one position ahead.\n",
        "   3) Replace first element of array with x.'''\n",
        "\n",
        "\n",
        "def rotate(arr, n):\n",
        "    last_el = arr[n - 1]\n",
        "\n",
        "    for i in range(n - 1, 0, -1):\n",
        "        arr[i] = arr[i - 1]\n",
        "\n",
        "    arr[0] = last_el\n",
        "\n",
        "# Driver function\n",
        "arr = [1, 2, 3, 4, 5]\n",
        "n = len(arr)\n",
        "print(\"Given array is\")\n",
        "for i in range(0, n):\n",
        "    print(arr[i], end=' ')\n",
        "\n",
        "rotate(arr, n)\n",
        "\n",
        "print(\"\\nRotated array is\")\n",
        "for i in range(0, n):\n",
        "    print(arr[i], end=' ')\n",
        "\n"
      ]
    }
  ]
}