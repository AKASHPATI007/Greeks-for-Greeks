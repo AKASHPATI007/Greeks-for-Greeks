{
  "nbformat": 4,
  "nbformat_minor": 0,
  "metadata": {
    "colab": {
      "provenance": [],
      "authorship_tag": "ABX9TyPTUNG9eGnOY9yRaY5WY04A",
      "include_colab_link": true
    },
    "kernelspec": {
      "name": "python3",
      "display_name": "Python 3"
    },
    "language_info": {
      "name": "python"
    }
  },
  "cells": [
    {
      "cell_type": "markdown",
      "metadata": {
        "id": "view-in-github",
        "colab_type": "text"
      },
      "source": [
        "<a href=\"https://colab.research.google.com/github/AKASHPATI007/Greeks-for-Greeks/blob/main/Greeks_for_greeks(love_babbar_problem).ipynb\" target=\"_parent\"><img src=\"https://colab.research.google.com/assets/colab-badge.svg\" alt=\"Open In Colab\"/></a>"
      ]
    },
    {
      "cell_type": "code",
      "execution_count": null,
      "metadata": {
        "colab": {
          "base_uri": "https://localhost:8080/"
        },
        "id": "tOPAZHC10BIK",
        "outputId": "78a20945-7bdf-42c3-c455-399b0f97bc0f"
      },
      "outputs": [
        {
          "output_type": "stream",
          "name": "stdout",
          "text": [
            "Given array is\n",
            "1 2 3 4 5 \n",
            "Rotated array is\n",
            "5 1 2 3 4 "
          ]
        }
      ],
      "source": [
        "#1. Cyclically rotate an array by one\n",
        "'''Given an array, rotate the array by one position in clock-wise direction.\n",
        "Input: N = 5 , A[] = {1, 2, 3, 4, 5}\n",
        "Output:5 1 2 3 4'''\n",
        "\n",
        "'''1) Store last element in a variable say x.\n",
        "   2) Shift all elements one position ahead.\n",
        "   3) Replace first element of array with x.'''\n",
        "\n",
        "\n",
        "def rotate(arr, n):\n",
        "    last_el = arr[n - 1]\n",
        "\n",
        "    for i in range(n - 1, 0, -1):\n",
        "        arr[i] = arr[i - 1]\n",
        "\n",
        "    arr[0] = last_el\n",
        "\n",
        "# Driver function\n",
        "arr = [1, 2, 3, 4, 5]\n",
        "n = len(arr)\n",
        "print(\"Given array is\")\n",
        "for i in range(0, n):\n",
        "    print(arr[i], end=' ')\n",
        "\n",
        "rotate(arr, n)\n",
        "\n",
        "print(\"\\nRotated array is\")\n",
        "for i in range(0, n):\n",
        "    print(arr[i], end=' ')\n",
        "\n"
      ]
    },
    {
      "cell_type": "code",
      "source": [
        "#2. Maximize sum(arr[i]*i) of an Array\n",
        "'''Given an array A of N integers. Your task is to write a program to find the maximum value of ∑arr[i]*i, where i = 0, 1, 2,., n 1.\n",
        "You are allowed to rearrange the elements of the array.\n",
        "Input : Arr[] = {5, 3, 2, 4, 1}\n",
        "Output : 40\n",
        "Explanation:If we arrange the array as 1 2 3 4 5 then we can see that the minimum index will multiply with minimum number and maximum index will\n",
        "multiply with maximum number. So 1*0+2*1+3*2+4*3+5*4=0+2+6+12+20 = 40 mod(109+7) = 40'''\n",
        "\n",
        "'''1.Sort the array.\n",
        "   2.Create a variable sum to store the final answer\n",
        "   3.Traverse The array, while traversing the array increases the value of the sum by arr[I]*i.\n",
        "   4.Return sum.'''\n",
        "\n",
        "def maxSum(arr, n):\n",
        "\n",
        "    #  Sort the array\n",
        "    arr.sort()\n",
        "\n",
        "    # Finding the sum of\n",
        "    # arr[i]*i\n",
        "    sum = 0\n",
        "    for i in range(n):\n",
        "        sum += arr[i] * i\n",
        "\n",
        "    return sum\n",
        "\n",
        "\n",
        "# Driver Program\n",
        "arr = [3, 5, 6, 1]\n",
        "n = len(arr)\n",
        "print(maxSum(arr, n))\n",
        "\n",
        "\n"
      ],
      "metadata": {
        "colab": {
          "base_uri": "https://localhost:8080/"
        },
        "id": "SmatIX-P0Y5Q",
        "outputId": "0bf62859-8f8a-41dc-bc2d-c3a1a985a6c7"
      },
      "execution_count": null,
      "outputs": [
        {
          "output_type": "stream",
          "name": "stdout",
          "text": [
            "31\n"
          ]
        }
      ]
    },
    {
      "cell_type": "code",
      "source": [
        "'''3. SWAP AND MAXIMIZE\n",
        "Given an array a[ ] of N elements. Consider array as a circular array i.e. element after an is a1.\n",
        "The task is to find maximum sum of the absolute difference between consecutive elements with rearrangement of array elements allowed\n",
        "i.e. after any rearrangement of array elements find |a1 – a2| + |a2 – a3| + …… + |an-1 – an| + |an – a1|.'''\n",
        "\n",
        "#Input:N = 4,  a[] = {4, 2, 1, 8}\n",
        "#Output: 18\n",
        "\n",
        "\n",
        "def maxSum(arr, n):\n",
        "    sum = 0\n",
        "\n",
        "    # Sorting the array\n",
        "    arr.sort()\n",
        "\n",
        "    # Subtracting a1, a2, a3,....., a(n/2)-1, an/2\n",
        "    # twice and adding a(n/2)+1, a(n/2)+2, a(n/2)+3,.\n",
        "    # ...., an - 1, an twice.\n",
        "    for i in range(0, int(n / 2)) :\n",
        "        sum -= (2 * arr[i])\n",
        "        sum += (2 * arr[n - i - 1])\n",
        "\n",
        "    return sum\n",
        "\n",
        "\n",
        "# Driver Program\n",
        "arr = [4, 2, 1, 8]\n",
        "n = len(arr)\n",
        "print (maxSum(arr, n))"
      ],
      "metadata": {
        "id": "m4Qx31OW5Str",
        "colab": {
          "base_uri": "https://localhost:8080/"
        },
        "outputId": "57e208b6-6099-4376-a4a1-94652a183bdd"
      },
      "execution_count": 2,
      "outputs": [
        {
          "output_type": "stream",
          "name": "stdout",
          "text": [
            "18\n"
          ]
        }
      ]
    }
  ]
}